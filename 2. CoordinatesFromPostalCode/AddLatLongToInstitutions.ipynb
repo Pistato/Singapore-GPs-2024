{
 "cells": [
  {
   "cell_type": "code",
   "execution_count": 1,
   "metadata": {},
   "outputs": [],
   "source": [
    "import requests\n",
    "from dotenv import load_dotenv\n",
    "import os\n",
    "      \n",
    "load_dotenv()\n",
    "\n",
    "onemap_api_key = os.environ.get(\"ONEMAP_API_KEY\")\n",
    "\n",
    "\n",
    "onemap_headers = {\n",
    "    'User-Agent': onemap_api_key\n",
    "}\n"
   ]
  },
  {
   "cell_type": "code",
   "execution_count": 2,
   "metadata": {},
   "outputs": [],
   "source": [
    "import pandas as pd"
   ]
  },
  {
   "cell_type": "code",
   "execution_count": 3,
   "metadata": {},
   "outputs": [],
   "source": [
    "\n",
    "\n",
    "def onemap_search(searchquery):\n",
    "    url = \"https://www.onemap.gov.sg/api/common/elastic/search\"\n",
    "    params = {\n",
    "        \"searchVal\": searchquery,\n",
    "        \"returnGeom\": \"Y\",\n",
    "        \"getAddrDetails\": \"Y\"\n",
    "    }\n",
    "\n",
    "    response = requests.get(url, params=params, headers=onemap_headers)\n",
    "    \n",
    "    if response.status_code == 200:\n",
    "        data = response.json()\n",
    "        if data.get('found') > 0:\n",
    "            result = data['results'][0]  # Assuming you want the first result\n",
    "            latitude = result['LATITUDE']\n",
    "            longitude = result['LONGITUDE']\n",
    "            return latitude, longitude\n",
    "        else:\n",
    "            print(searchquery + \"    No results found.\")\n",
    "            return None, None\n",
    "    else:\n",
    "        print(searchquery + \"    Request failed with status code:\", response.status_code)\n",
    "        return None, None\n"
   ]
  },
  {
   "cell_type": "code",
   "execution_count": 12,
   "metadata": {},
   "outputs": [],
   "source": [
    "all_gp = pd.read_csv(\"..\\\\1.5 FixingDataIssues\\\\All GPs.csv\", index_col=0)\n",
    "all_hospital = pd.read_csv(\"..\\\\1.5 FixingDataIssues\\\\All Hospitals.csv\", index_col=0)\n",
    "all_poly = pd.read_csv(\"..\\\\1.5 FixingDataIssues\\\\All Polyclinics.csv\", index_col=0)\n"
   ]
  },
  {
   "cell_type": "code",
   "execution_count": 13,
   "metadata": {},
   "outputs": [],
   "source": [
    "# function to perform on each row\n",
    "def helper(row):\n",
    "    return onemap_search(row['Postal Code'])\n"
   ]
  },
  {
   "cell_type": "code",
   "execution_count": 16,
   "metadata": {},
   "outputs": [
    {
     "name": "stdout",
     "output_type": "stream",
     "text": [
      "279887    No results found.\n",
      "828273    No results found.\n",
      "760102    No results found.\n"
     ]
    }
   ],
   "source": [
    "all_gp['Postal Code'] = all_gp['Location'].str.extract(r'Singapore (\\d+)')\n",
    "all_gp[[\"Lat\", \"Long\"]] = all_gp.apply(lambda row: pd.Series(helper(row)), axis = 1, result_type='expand')\n",
    "all_gp.to_csv(\".\\\\Output Institution\\\\All GPs.csv\")"
   ]
  },
  {
   "cell_type": "code",
   "execution_count": 14,
   "metadata": {},
   "outputs": [],
   "source": [
    "all_hospital['Postal Code'] = all_hospital['Location'].str.extract(r'Singapore (\\d+)')\n",
    "all_hospital[[\"Lat\", \"Long\"]] = all_hospital.apply(lambda row: pd.Series(helper(row)), axis = 1, result_type='expand')\n",
    "all_hospital.to_csv(\".\\\\Output Institution\\\\All Hospitals.csv\")"
   ]
  },
  {
   "cell_type": "code",
   "execution_count": 15,
   "metadata": {},
   "outputs": [],
   "source": [
    "all_poly['Postal Code'] = all_poly['Location'].str.extract(r'Singapore (\\d+)')\n",
    "all_poly[[\"Lat\", \"Long\"]] = all_poly.apply(lambda row: pd.Series(helper(row)), axis = 1, result_type='expand')\n",
    "all_poly.to_csv(\".\\\\Output Institution\\\\All Polyclinics.csv\")"
   ]
  }
 ],
 "metadata": {
  "kernelspec": {
   "display_name": "Python 3",
   "language": "python",
   "name": "python3"
  },
  "language_info": {
   "codemirror_mode": {
    "name": "ipython",
    "version": 3
   },
   "file_extension": ".py",
   "mimetype": "text/x-python",
   "name": "python",
   "nbconvert_exporter": "python",
   "pygments_lexer": "ipython3",
   "version": "3.11.0"
  }
 },
 "nbformat": 4,
 "nbformat_minor": 2
}
