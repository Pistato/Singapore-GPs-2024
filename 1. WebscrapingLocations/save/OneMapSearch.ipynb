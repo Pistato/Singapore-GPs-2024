{
 "cells": [
  {
   "cell_type": "code",
   "execution_count": 23,
   "metadata": {},
   "outputs": [
    {
     "name": "stderr",
     "output_type": "stream",
     "text": [
      "\n",
      "[notice] A new release of pip is available: 23.0.1 -> 24.0\n",
      "[notice] To update, run: python.exe -m pip install --upgrade pip\n"
     ]
    },
    {
     "name": "stdout",
     "output_type": "stream",
     "text": [
      "Requirement already satisfied: python-dotenv in c:\\python311\\lib\\site-packages (1.0.1)\n",
      "Requirement already satisfied: requests in c:\\python311\\lib\\site-packages (2.28.2)\n",
      "Requirement already satisfied: charset-normalizer<4,>=2 in c:\\python311\\lib\\site-packages (from requests) (3.0.1)\n",
      "Requirement already satisfied: idna<4,>=2.5 in c:\\python311\\lib\\site-packages (from requests) (3.4)\n",
      "Requirement already satisfied: urllib3<1.27,>=1.21.1 in c:\\python311\\lib\\site-packages (from requests) (1.26.14)\n",
      "Requirement already satisfied: certifi>=2017.4.17 in c:\\python311\\lib\\site-packages (from requests) (2022.12.7)\n"
     ]
    },
    {
     "name": "stderr",
     "output_type": "stream",
     "text": [
      "\n",
      "[notice] A new release of pip is available: 23.0.1 -> 24.0\n",
      "[notice] To update, run: python.exe -m pip install --upgrade pip\n"
     ]
    },
    {
     "name": "stdout",
     "output_type": "stream",
     "text": [
      "Collecting geopy\n",
      "  Downloading geopy-2.4.1-py3-none-any.whl (125 kB)\n",
      "     ---------------------------------------- 0.0/125.4 kB ? eta -:--:--\n",
      "     ---------------------------------------- 0.0/125.4 kB ? eta -:--:--\n",
      "     ---------------------------------------- 0.0/125.4 kB ? eta -:--:--\n",
      "     ---------------------------------------- 0.0/125.4 kB ? eta -:--:--\n",
      "     ---------------------------------------- 0.0/125.4 kB ? eta -:--:--\n",
      "     ------------- -------------------------- 41.0/125.4 kB ? eta -:--:--\n",
      "     -------------------------------------- 125.4/125.4 kB 3.7 MB/s eta 0:00:00\n",
      "Collecting geographiclib<3,>=1.52\n",
      "  Downloading geographiclib-2.0-py3-none-any.whl (40 kB)\n",
      "     ---------------------------------------- 0.0/40.3 kB ? eta -:--:--\n",
      "     ---------------------------------------- 40.3/40.3 kB 1.9 MB/s eta 0:00:00\n",
      "Installing collected packages: geographiclib, geopy\n",
      "Successfully installed geographiclib-2.0 geopy-2.4.1\n"
     ]
    },
    {
     "name": "stderr",
     "output_type": "stream",
     "text": [
      "\n",
      "[notice] A new release of pip is available: 23.0.1 -> 24.0\n",
      "[notice] To update, run: python.exe -m pip install --upgrade pip\n"
     ]
    }
   ],
   "source": [
    "!pip install python-dotenv\n",
    "!pip install requests\n",
    "!pip install geopy"
   ]
  },
  {
   "cell_type": "code",
   "execution_count": 3,
   "metadata": {},
   "outputs": [],
   "source": [
    "import requests\n",
    "from dotenv import load_dotenv\n",
    "import os\n",
    "      \n",
    "load_dotenv()\n",
    "\n",
    "onemap_api_key = os.environ.get(\"ONEMAP_API_KEY\")\n",
    "\n",
    "\n",
    "onemap_headers = {\n",
    "    'User-Agent': onemap_api_key\n",
    "}\n"
   ]
  },
  {
   "cell_type": "code",
   "execution_count": 27,
   "metadata": {},
   "outputs": [
    {
     "name": "stdout",
     "output_type": "stream",
     "text": [
      "{\n",
      "  \"found\": 75,\n",
      "  \"totalNumPages\": 8,\n",
      "  \"pageNum\": 1,\n",
      "  \"results\": [\n",
      "    {\n",
      "      \"SEARCHVAL\": \"MEDICAL DRIVE\"\n",
      "    },\n",
      "    {\n",
      "      \"SEARCHVAL\": \"NUH MEDICAL CENTRE\"\n",
      "    },\n",
      "    {\n",
      "      \"SEARCHVAL\": \"SIAN CHAY MEDICAL INSTITUTION MARSILING BRANCH\"\n",
      "    },\n",
      "    {\n",
      "      \"SEARCHVAL\": \"CAMDEN MEDICAL CENTRE\"\n",
      "    },\n",
      "    {\n",
      "      \"SEARCHVAL\": \"SINGAPORE CHUNG HWA MEDICAL INSTITUTION\"\n",
      "    },\n",
      "    {\n",
      "      \"SEARCHVAL\": \"SINGAPORE GENERAL HOSPITAL (ALUMNI MEDICAL CENTRE)\"\n",
      "    },\n",
      "    {\n",
      "      \"SEARCHVAL\": \"THONG CHAI MEDICAL INSTITUTION ¿ SENG KANG\"\n",
      "    },\n",
      "    {\n",
      "      \"SEARCHVAL\": \"SIAN CHAY MEDICAL INSTITUTION ANG MO KIO (TRANS-CAB HQ) BRANCH\"\n",
      "    },\n",
      "    {\n",
      "      \"SEARCHVAL\": \"ALUMNI MEDICAL CENTRE\"\n",
      "    },\n",
      "    {\n",
      "      \"SEARCHVAL\": \"MOUNT ELIZABETH HOSPITAL/MEDICAL CENTRE\"\n",
      "    }\n",
      "  ]\n",
      "}\n"
     ]
    }
   ],
   "source": []
  },
  {
   "cell_type": "code",
   "execution_count": 1,
   "metadata": {},
   "outputs": [],
   "source": [
    "import pandas as pd"
   ]
  },
  {
   "cell_type": "code",
   "execution_count": 28,
   "metadata": {},
   "outputs": [],
   "source": [
    "def onemap_search(searchquery):\n",
    "    url = \"https://www.onemap.gov.sg/api/common/elastic/search\"\n",
    "    params = {\n",
    "        \"searchVal\": searchquery,\n",
    "        \"returnGeom\": \"Y\",\n",
    "        \"getAddrDetails\": \"Y\"\n",
    "    }\n",
    "\n",
    "    response = requests.get(url, params=params, headers=onemap_headers)\n",
    "    \n",
    "    if response.status_code == 200:\n",
    "        data = response.json()\n",
    "        if data.get('found') > 0:\n",
    "            result = data['results'][0]  # Assuming you want the first result\n",
    "            latitude = result['LATITUDE']\n",
    "            longitude = result['LONGITUDE']\n",
    "            return latitude, longitude\n",
    "        else:\n",
    "            print(\"No results found.\")\n",
    "            return None, None\n",
    "    else:\n",
    "        print(\"Request failed with status code:\", response.status_code)\n",
    "        return None, None\n"
   ]
  },
  {
   "cell_type": "code",
   "execution_count": 38,
   "metadata": {},
   "outputs": [
    {
     "data": {
      "text/plain": [
       "('1.27727696508456', '103.831093355841')"
      ]
     },
     "execution_count": 38,
     "metadata": {},
     "output_type": "execute_result"
    }
   ],
   "source": [
    "onemap_search(\"Singapore 160147\")"
   ]
  },
  {
   "cell_type": "code",
   "execution_count": 40,
   "metadata": {},
   "outputs": [
    {
     "data": {
      "text/plain": [
       "(41.2410409, 121.585779375)"
      ]
     },
     "execution_count": 40,
     "metadata": {},
     "output_type": "execute_result"
    }
   ],
   "source": [
    "postal_code_to_coordinates(110101)"
   ]
  },
  {
   "cell_type": "code",
   "execution_count": 20,
   "metadata": {},
   "outputs": [],
   "source": [
    "all_gp = pd.read_csv(\"..\\\\1. WebscrapingLocations\\\\All GPs.csv\", index_col=0)\n",
    "all_hospital = pd.read_csv(\"..\\\\1. WebscrapingLocations\\\\All Hospitals.csv\", index_col=0)\n",
    "all_poly = pd.read_csv(\"..\\\\1. WebscrapingLocations\\\\All Polyclinics.csv\", index_col=0)\n"
   ]
  },
  {
   "cell_type": "code",
   "execution_count": 25,
   "metadata": {},
   "outputs": [],
   "source": []
  },
  {
   "cell_type": "code",
   "execution_count": 34,
   "metadata": {},
   "outputs": [
    {
     "data": {
      "text/plain": [
       "(1.2772704, 103.8310485)"
      ]
     },
     "execution_count": 34,
     "metadata": {},
     "output_type": "execute_result"
    }
   ],
   "source": []
  }
 ],
 "metadata": {
  "kernelspec": {
   "display_name": "Python 3",
   "language": "python",
   "name": "python3"
  },
  "language_info": {
   "codemirror_mode": {
    "name": "ipython",
    "version": 3
   },
   "file_extension": ".py",
   "mimetype": "text/x-python",
   "name": "python",
   "nbconvert_exporter": "python",
   "pygments_lexer": "ipython3",
   "version": "3.11.0"
  }
 },
 "nbformat": 4,
 "nbformat_minor": 2
}
