{
 "cells": [
  {
   "cell_type": "code",
   "execution_count": 1,
   "metadata": {},
   "outputs": [],
   "source": [
    "import requests\n",
    "from dotenv import load_dotenv\n",
    "import os\n",
    "      \n",
    "# there is an issue as places api can only show up to 3 pages of 20 places, totalling 60 places.\n",
    "\n",
    "load_dotenv()\n",
    "\n",
    "places_api_key = os.environ.get(\"PLACES_API_KEY\")"
   ]
  },
  {
   "cell_type": "code",
   "execution_count": 34,
   "metadata": {},
   "outputs": [],
   "source": [
    "def text_search(api_key, searchtype, searchquery):\n",
    "    url = \"https://maps.googleapis.com/maps/api/place/textsearch/json\"\n",
    "    params = {\n",
    "        \"query\": searchquery,\n",
    "        \"key\": api_key,\n",
    "        \"type\": searchtype,\n",
    "        \"region\": \"sg\"\n",
    "    }\n",
    "    response = requests.get(url, params=params)\n",
    "    data = response.json()\n",
    "    \n",
    "    if data[\"status\"] == \"OK\":\n",
    "        return data[\"results\"]\n",
    "    else:\n",
    "        print(\"Error occurred:\", data[\"status\"])\n",
    "        return None"
   ]
  },
  {
   "cell_type": "code",
   "execution_count": 37,
   "metadata": {},
   "outputs": [],
   "source": [
    "keyword = \"\"\n",
    "\n",
    "clinics = text_search(places_api_key, \"doctor\",keyword)\n",
    "hospitals = text_search(places_api_key, \"hospital\", keyword)\n",
    "\n"
   ]
  },
  {
   "cell_type": "code",
   "execution_count": 44,
   "metadata": {},
   "outputs": [
    {
     "name": "stdout",
     "output_type": "stream",
     "text": [
      "Keyword: \n",
      "First Health Clinic & Surgery,126 Kim Tian Rd, Singapore 160126\n",
      "Yim Clinic & Surgery,Blk11A Boon Tiong Road #02-03, 161011\n",
      "Chang Clinic & Surgery,7 Everton Park, #01- 21, Singapore 080007\n",
      "OneCare Clinic Tiong Bahru,11A Boon Tiong Rd, #01-08, Singapore 161011\n",
      "Parkway Shenton Family Medical Clinic, Duxton,01-02 Cantonment Road Blk 1 The Pinnacle @ Duxton, 080001\n",
      "Family Clinic,Tiong Bahru Rd, Singapore 168731\n",
      "MedSociety,21 Circular Rd, Singapore 049377\n",
      "Atlas Associates Clinic,1 Grange Rd, #10-11 ORCHARD BUILDING, Singapore 239693\n",
      "Somerset GP,111 Somerset Rd, #03-22 TripleOne Somerset, Singapore 238164\n",
      "Tanjong Pagar Medical Clinic,1 Tanjong Pagar Plaza, #01-06, 082001\n",
      "Ng Wing Chuen Dr,1 Park Rd, #04-13 059108, Singapore 059108\n",
      "Providence Clinic @ Redhill,86 Redhill Cl, #01-598, Singapore 150086\n",
      "PULSE CLINIC Singapore | A Lifestyle Clinic,118A Neil Rd, Singapore 088854\n",
      "Vivien@Robinson Practice,80 Robinson Rd, #01 01A, Singapore 068898\n",
      "Gastrointestinal Function Unit (GIFU),Outram Road, Block 3, Level 1, Singapore General Hospital, 169608\n"
     ]
    },
    {
     "data": {
      "text/plain": [
       "[{'height': 2988,\n",
       "  'html_attributions': ['<a href=\"https://maps.google.com/maps/contrib/116297858667564013126\">Kenny Chua</a>'],\n",
       "  'photo_reference': 'ATplDJbdwf3mTcIbNTsspd0fKnEvg_FDSyHuJ9oCK_LQJMKOCdFmTxwLCTc8DjTxyGTL6j_w-BxOq0Qosl_ZS01wtj6GzJTyrmaAaFnPWysN54ctP3OOnPKX__YedRIujcabZ8svsF9n0RGUdvbcjwr7oKsfnol5nvaatKnOtdJ754NhBv4o',\n",
       "  'width': 3984}]"
      ]
     },
     "execution_count": 44,
     "metadata": {},
     "output_type": "execute_result"
    }
   ],
   "source": [
    "if clinics:\n",
    "    print(\"Keyword: \" + keyword)\n",
    "    for clinic in clinics:\n",
    "        print(clinic[\"name\"] + \",\" + clinic[\"formatted_address\"])\n",
    "else:\n",
    "    print(\"No clinics found.\")"
   ]
  },
  {
   "cell_type": "code",
   "execution_count": 40,
   "metadata": {},
   "outputs": [
    {
     "name": "stdout",
     "output_type": "stream",
     "text": [
      "Keyword: \n",
      "Singapore General Hospital\n",
      "SGH Blocks 6 / 7\n",
      "Hospital Grub\n",
      "Singapore General Hospital Block 2 & 3\n",
      "Tan Tock Seng Hospital\n",
      "Mount Elizabeth Hospital\n",
      "Alexandra Hospital\n",
      "Farrer Park Hospital\n",
      "Gleneagles Hospital\n",
      "Mount Alvernia Hospital\n",
      "Crawfurd Hospital\n",
      "Parkway East Hospital\n",
      "The National University Hospital\n",
      "Sengkang General Hospital\n",
      "Ng Teng Fong General Hospital\n",
      "KK Women's and Children's Hospital\n",
      "Syndrome hospital\n",
      "CARE\n",
      "Changi General Hospital\n",
      "Khoo Teck Puat Hospital\n"
     ]
    }
   ],
   "source": [
    "if hospitals:\n",
    "    print(\"Keyword: \" + keyword)\n",
    "    for hospital in hospitals:\n",
    "        print(hospital[\"name\"])\n",
    "else:\n",
    "    print(\"No clinics found.\")"
   ]
  },
  {
   "cell_type": "code",
   "execution_count": null,
   "metadata": {},
   "outputs": [],
   "source": []
  }
 ],
 "metadata": {
  "kernelspec": {
   "display_name": "Python 3",
   "language": "python",
   "name": "python3"
  },
  "language_info": {
   "codemirror_mode": {
    "name": "ipython",
    "version": 3
   },
   "file_extension": ".py",
   "mimetype": "text/x-python",
   "name": "python",
   "nbconvert_exporter": "python",
   "pygments_lexer": "ipython3",
   "version": "3.11.0"
  }
 },
 "nbformat": 4,
 "nbformat_minor": 2
}
